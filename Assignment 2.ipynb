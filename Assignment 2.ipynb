{
 "cells": [
  {
   "cell_type": "markdown",
   "metadata": {},
   "source": [
    "# Likelihood"
   ]
  },
  {
   "cell_type": "code",
   "execution_count": 6,
   "metadata": {},
   "outputs": [
    {
     "data": {
      "image/png": "[encoded data removed]",
      "text/plain": [
       "<Figure size 432x288 with 1 Axes>"
      ]
     },
     "metadata": {
      "needs_background": "light"
     },
     "output_type": "display_data"
    }
   ],
   "source": [
    "import matplotlib.pyplot as plt\n",
    "import numpy as np\n",
    "from mpl_toolkits.mplot3d import Axes3D\n",
    "from sklearn import datasets\n",
    "from sklearn.decomposition import PCA\n",
    "\n",
    "\n",
    "\n",
    "\n",
    "\n",
    "\n",
    "features = datasets.load_iris().data   # the matrix of features\n",
    "labels = datasets.load_iris().target  # the matrix of the category \n",
    "\n",
    "feature0 = []\n",
    "feature1 = []\n",
    "feature2 = []\n",
    "for i in range(len(labels)):\n",
    "    if labels[i] == 0:\n",
    "        feature0.append(features[i])\n",
    "    if labels[i] == 1:\n",
    "        feature1.append(features[i])\n",
    "    if labels[i] == 2:\n",
    "        feature2.append(features[i])     # to separate the matrix into matrix of features with specific category\n",
    "\n",
    "list0 = np.transpose(feature0)\n",
    "list1 = np.transpose(feature1)\n",
    "list2 = np.transpose(feature2)\n",
    "\n",
    "mean00 = sum(list0[0])/len(list0[0])    # 00 means the first feature(petal length) of the 0 category\n",
    "mean01 = sum(list0[1])/len(list0[1])    # 01 means the second feature(petal width) of the 0 category\n",
    "mean02 = sum(list0[2])/len(list0[2])    # 02 means the third feature(sepal length) of the 0 category\n",
    "mean03 = sum(list0[3])/len(list0[3])    # 03 means the fourth feature(sepal length) of the 0 category\n",
    "\n",
    "mean10 = sum(list1[0])/len(list1[0])\n",
    "mean11 = sum(list1[1])/len(list1[1])\n",
    "mean12 = sum(list1[2])/len(list1[2])\n",
    "mean13 = sum(list1[3])/len(list1[3])   \n",
    "\n",
    "mean20 = sum(list2[0])/len(list2[0])\n",
    "mean21 = sum(list2[1])/len(list2[1])\n",
    "mean22 = sum(list2[2])/len(list2[2])\n",
    "mean23 = sum(list2[3])/len(list2[3])  \n",
    "\n",
    "\n",
    "\n",
    "\n",
    "\n",
    "\n",
    "temp00 = 0\n",
    "temp01 = 0\n",
    "temp02 = 0\n",
    "temp03 = 0\n",
    "for x,i,j,k in zip(list0[0],list0[1],list0[2],list0[3]):\n",
    "    temp00 += (np.power((x - mean00),2))\n",
    "    temp01 += (np.power((i - mean01),2))\n",
    "    temp02 += (np.power((j - mean02),2))\n",
    "    temp03 += (np.power((k - mean03),2))\n",
    "sig00 = temp00/len(list0[0])\n",
    "sig01 = temp01/len(list0[1])           # sigma square of each feature of each category\n",
    "sig02 = temp02/len(list0[2])\n",
    "sig03 = temp03/len(list0[3])          # this sig here should be the sigma square\n",
    "\n",
    "temp10 = 0\n",
    "temp11 = 0\n",
    "temp12 = 0\n",
    "temp13 = 0\n",
    "for x,i,j,k in zip(list1[0],list1[1],list1[2],list1[3]):\n",
    "    temp10 += (np.power((x - mean10),2))\n",
    "    temp11 += (np.power((i - mean11),2))\n",
    "    temp12 += (np.power((j - mean12),2))\n",
    "    temp13 += (np.power((k - mean13),2))\n",
    "sig10 = temp10/len(list1[0])\n",
    "sig11 = temp11/len(list1[1])\n",
    "sig12 = temp12/len(list1[2])\n",
    "sig13 = temp13/len(list1[3])\n",
    "\n",
    "temp20 = 0\n",
    "temp21 = 0\n",
    "temp22 = 0\n",
    "temp23 = 0\n",
    "for x,i,j,k in zip(list2[0],list2[1],list2[2],list2[3]):\n",
    "    temp20 += (np.power((x - mean20),2))\n",
    "    temp21 += (np.power((i - mean21),2))\n",
    "    temp22 += (np.power((j - mean22),2))\n",
    "    temp23 += (np.power((k - mean23),2))\n",
    "sig20 = temp20/len(list2[0])\n",
    "sig21 = temp21/len(list2[1])\n",
    "sig22 = temp22/len(list2[2])\n",
    "sig23 = temp23/len(list2[3])\n",
    "\n",
    "\n",
    "\n",
    "\n",
    "\n",
    "def gaussian(x, mean, sig):\n",
    "    return np.exp(-np.power(x - mean, 2) / (2 * sig)) / np.sqrt(np.abs(2*np.pi*sig))\n",
    "\n",
    "plt.plot(np.arange(0,10,0.01),\n",
    "         [(gaussian(i,mean00,sig00)+gaussian(i,mean01,sig01)+gaussian(i,mean02,sig02)+gaussian(i,mean03,sig03))/4\n",
    "          for i in np.arange(0,10,0.01)])\n",
    "plt.plot(np.arange(0,10,0.01),\n",
    "         [(gaussian(i,mean10,sig10)+gaussian(i,mean11,sig11)+gaussian(i,mean12,sig12)+gaussian(i,mean13,sig13))/4 \n",
    "          for i in np.arange(0,10,0.01)])\n",
    "plt.plot(np.arange(0,10,0.01),\n",
    "         [(gaussian(i,mean20,sig20)+gaussian(i,mean21,sig21)+gaussian(i,mean22,sig22)+gaussian(i,mean23,sig23))/4\n",
    "          for i in np.arange(0,10,0.01)])\n",
    "plt.show()\n"
   ]
  },
  {
   "cell_type": "markdown",
   "metadata": {},
   "source": [
    "# Priori"
   ]
  },
  {
   "cell_type": "code",
   "execution_count": 2,
   "metadata": {},
   "outputs": [],
   "source": [
    "PrC0 = labels.tolist().count(0)/len(labels)\n",
    "PrC1 = labels.tolist().count(1)/len(labels)\n",
    "PrC2 = labels.tolist().count(2)/len(labels)  # the priori probability of each category"
   ]
  },
  {
   "cell_type": "markdown",
   "metadata": {},
   "source": [
    "# Posterior"
   ]
  },
  {
   "cell_type": "code",
   "execution_count": 3,
   "metadata": {},
   "outputs": [
    {
     "name": "stdout",
     "output_type": "stream",
     "text": [
      "[[0.5765738  0.01891988 0.02899212]\n",
      " [0.42961967 0.03532576 0.01142967]\n",
      " [0.50581675 0.04176791 0.08117962]\n",
      " [0.32393573 0.0190949  0.02899225]\n",
      " [0.25872585 0.01750543 0.00689593]\n",
      " [0.58084058 0.0868598  0.1047238 ]\n",
      " [0.57357244 0.01750291 0.00689593]\n",
      " [0.59101688 0.0431906  0.08141449]\n",
      " [0.61024779 0.03119758 0.01435724]\n",
      " [0.64720496 0.03712146 0.064018  ]\n",
      " [0.04336895 0.34369881 0.0720903 ]\n",
      " [0.04839633 0.35598499 0.16486225]\n",
      " [0.01554928 0.35411644 0.07884337]\n",
      " [0.09634895 0.09716804 0.01351737]\n",
      " [0.03677345 0.39595408 0.09376978]\n",
      " [0.06088111 0.34876735 0.12737407]\n",
      " [0.04751101 0.39573154 0.12720762]\n",
      " [0.03460029 0.39451285 0.15291449]\n",
      " [0.09643804 0.17945726 0.03819061]\n",
      " [0.03621193 0.40069363 0.11452793]\n",
      " [0.06177726 0.08327573 0.25640468]\n",
      " [0.06177658 0.08584701 0.25984242]\n",
      " [0.02155582 0.18343979 0.2492163 ]\n",
      " [0.07458148 0.05677917 0.25422038]\n",
      " [0.08392965 0.04683697 0.19921988]\n",
      " [0.04769787 0.11191785 0.27880514]\n",
      " [0.00465837 0.14630844 0.22850332]\n",
      " [0.0477071  0.12647559 0.32725006]\n",
      " [0.08831092 0.07416961 0.21855587]\n",
      " [0.05127527 0.16931752 0.26262462]]\n"
     ]
    }
   ],
   "source": [
    "train0 = []\n",
    "test0 = []\n",
    "for i in range(len(feature0)):\n",
    "    if i < 0.8*len(feature0):  # split the dataset into two subsets for training and testing(40 samples per category)\n",
    "        train0.append(feature0[i])\n",
    "    else:\n",
    "        test0.append(feature0[i])\n",
    "\n",
    "train1 = []\n",
    "test1 = []\n",
    "for i in range(len(feature1)):\n",
    "    if i < 0.8*len(feature1):\n",
    "        train1.append(feature1[i])\n",
    "    else:\n",
    "        test1.append(feature1[i])\n",
    "\n",
    "train2 = []\n",
    "test2 = []\n",
    "for i in range(len(feature2)):\n",
    "    if i < 0.8*len(feature2):\n",
    "        train2.append(feature2[i])\n",
    "    else:\n",
    "        test2.append(feature2[i])   \n",
    "\n",
    "    \n",
    "test0 = np.transpose(test0)\n",
    "test1 = np.transpose(test1)\n",
    "test2 = np.transpose(test2)\n",
    "\n",
    "post = []\n",
    "for i,j,k,l in zip(test0[0], test0[1], test0[2], test0[3]):\n",
    "    post.append(PrC0*(gaussian(i,mean00,sig00)+gaussian(j,mean01,sig01)  \n",
    "                      +gaussian(k,mean02,sig02)+gaussian(l,mean03,sig03))/4)\n",
    "    post.append(PrC1*(gaussian(i,mean10,sig10)+gaussian(j,mean11,sig11)\n",
    "                      +gaussian(k,mean12,sig12)+gaussian(l,mean13,sig13))/4)\n",
    "    post.append(PrC2*(gaussian(i,mean20,sig20)+gaussian(j,mean21,sig21)\n",
    "                      +gaussian(k,mean22,sig22)+gaussian(l,mean23,sig23))/4)\n",
    "    \n",
    "# the priori times the likelihood equals the posterior given X\n",
    "    \n",
    "    \n",
    "for i,j,k,l in zip(test1[0], test1[1], test1[2], test1[3]):\n",
    "    post.append(PrC0*(gaussian(i,mean00,sig00)+gaussian(j,mean01,sig01)\n",
    "                      +gaussian(k,mean02,sig02)+gaussian(l,mean03,sig03))/4)\n",
    "    post.append(PrC1*(gaussian(i,mean10,sig10)+gaussian(j,mean11,sig11)\n",
    "                      +gaussian(k,mean12,sig12)+gaussian(l,mean13,sig13))/4)\n",
    "    post.append(PrC2*(gaussian(i,mean20,sig20)+gaussian(j,mean21,sig21)\n",
    "                      +gaussian(k,mean22,sig22)+gaussian(l,mean23,sig23))/4)\n",
    "\n",
    "for i,j,k,l in zip(test2[0], test2[1], test2[2], test2[3]):\n",
    "    post.append(PrC0*(gaussian(i,mean00,sig00)+gaussian(j,mean01,sig01)\n",
    "                      +gaussian(k,mean02,sig02)+gaussian(l,mean03,sig03))/4)\n",
    "    post.append(PrC1*(gaussian(i,mean10,sig10)+gaussian(j,mean11,sig11)\n",
    "                      +gaussian(k,mean12,sig12)+gaussian(l,mean13,sig13))/4)\n",
    "    post.append(PrC2*(gaussian(i,mean20,sig20)+gaussian(j,mean21,sig21)\n",
    "                      +gaussian(k,mean22,sig22)+gaussian(l,mean23,sig23))/4)\n",
    "\n",
    "post = np.reshape(post,(30,3));\n",
    "print(post)\n"
   ]
  },
  {
   "cell_type": "markdown",
   "metadata": {},
   "source": [
    "# Confusion matrix"
   ]
  },
  {
   "cell_type": "code",
   "execution_count": 34,
   "metadata": {
    "scrolled": true
   },
   "outputs": [
    {
     "name": "stdout",
     "output_type": "stream",
     "text": [
      "[[10  0  0]\n",
      " [ 0 10  0]\n",
      " [ 0  0 10]]\n"
     ]
    }
   ],
   "source": [
    "indices = []\n",
    "for i in post:\n",
    "    indices.append(np.argmax(i))\n",
    "     \n",
    "matrix = np.array([[0]*3]*3);\n",
    "for i in range(10):\n",
    "    if indices[i] == 0:           # to test every 10 testing samples\n",
    "        matrix[0][0] += 1\n",
    "    elif indices[i] == 1:\n",
    "        matrix[0][1] += 1\n",
    "    elif indices[i] == 2:\n",
    "        matrix[0][2] += 1\n",
    "        \n",
    "for i in range(10,20):\n",
    "    if indices[i] == 0:\n",
    "        matrix[1][0] += 1\n",
    "    elif indices[i] == 1:\n",
    "        matrix[1][1] += 1\n",
    "    elif indices[i] == 2:\n",
    "        matrix[1][2] += 1\n",
    "        \n",
    "for i in range(20,30):\n",
    "    if indices[i] == 0:\n",
    "        matrix[2][0] += 1\n",
    "    elif indices[i] == 1:\n",
    "        matrix[2][1] += 1\n",
    "    elif indices[i] == 2:\n",
    "        matrix[2][2] += 1\n",
    "print(matrix)\n",
    "    \n"
   ]
  },
  {
   "cell_type": "markdown",
   "metadata": {},
   "source": [
    "# ROC Curve"
   ]
  },
  {
   "cell_type": "code",
   "execution_count": 8,
   "metadata": {},
   "outputs": [
    {
     "data": {
      "image/png": "[encoded data removed]",
      "text/plain": [
       "<Figure size 432x288 with 1 Axes>"
      ]
     },
     "metadata": {
      "needs_background": "light"
     },
     "output_type": "display_data"
    }
   ],
   "source": [
    "import numpy as np\n",
    "import matplotlib.pyplot as plt\n",
    "from itertools import cycle\n",
    "\n",
    "from sklearn import svm, datasets\n",
    "from sklearn.metrics import roc_curve, auc\n",
    "from sklearn.model_selection import train_test_split\n",
    "from sklearn.preprocessing import label_binarize\n",
    "from sklearn.multiclass import OneVsRestClassifier\n",
    "from scipy import interp\n",
    "\n",
    "\n",
    "iris = datasets.load_iris()\n",
    "X = iris.data\n",
    "y = iris.target\n",
    "\n",
    "# Binarize the output\n",
    "y = label_binarize(y, classes=[0, 1, 2])\n",
    "n_classes = y.shape[1]\n",
    "\n",
    "# Add noisy features to make the problem harder\n",
    "random_state = np.random.RandomState(0)\n",
    "n_samples, n_features = X.shape\n",
    "X = np.c_[X, random_state.randn(n_samples, 200 * n_features)]\n",
    "\n",
    "# shuffle and split training and test sets\n",
    "X_train, X_test, y_train, y_test = train_test_split(X, y, test_size=0.1,\n",
    "                                                    random_state=0)\n",
    "\n",
    "# Learn to predict each class against the other\n",
    "classifier = OneVsRestClassifier(svm.SVC(kernel='linear', probability=True,\n",
    "                                 random_state=random_state))\n",
    "y_score = classifier.fit(X_train, y_train).decision_function(X_test)\n",
    "\n",
    "# Compute ROC curve and ROC area for each class\n",
    "fpr = dict()\n",
    "tpr = dict()\n",
    "roc_auc = dict()\n",
    "for i in range(n_classes):\n",
    "    fpr[i], tpr[i], _ = roc_curve(y_test[:, i], y_score[:, i])\n",
    "    roc_auc[i] = auc(fpr[i], tpr[i])\n",
    "\n",
    "# Compute micro-average ROC curve and ROC area\n",
    "fpr[\"micro\"], tpr[\"micro\"], _ = roc_curve(y_test.ravel(), y_score.ravel())\n",
    "roc_auc[\"micro\"] = auc(fpr[\"micro\"], tpr[\"micro\"])\n",
    "\n",
    "plt.figure()\n",
    "lw = 2\n",
    "plt.plot(fpr[2], tpr[2], color='darkorange',\n",
    "         lw=lw, label='ROC curve (area = %0.2f)' % roc_auc[2])\n",
    "plt.plot([0, 1], [0, 1], color='navy', lw=lw, linestyle='--')\n",
    "plt.xlim([0.0, 1.0])\n",
    "plt.ylim([0.0, 1.05])\n",
    "plt.xlabel('False Positive Rate')\n",
    "plt.ylabel('True Positive Rate')\n",
    "plt.title('Receiver operating characteristic example')\n",
    "plt.legend(loc=\"lower right\")\n",
    "plt.show()\n"
   ]
  },
  {
   "cell_type": "markdown",
   "metadata": {},
   "source": [
    "# PR Curve"
   ]
  },
  {
   "cell_type": "code",
   "execution_count": 9,
   "metadata": {},
   "outputs": [
    {
     "ename": "ValueError",
     "evalue": "multilabel-indicator format is not supported",
     "output_type": "error",
     "traceback": [
      "\u001b[0;31m---------------------------------------------------------------------------\u001b[0m",
      "\u001b[0;31mValueError\u001b[0m                                Traceback (most recent call last)",
      "\u001b[0;32m<ipython-input-9-362a820472bf>\u001b[0m in \u001b[0;36m<module>\u001b[0;34m()\u001b[0m\n\u001b[1;32m      3\u001b[0m \u001b[0;32mfrom\u001b[0m \u001b[0msklearn\u001b[0m\u001b[0;34m.\u001b[0m\u001b[0mutils\u001b[0m\u001b[0;34m.\u001b[0m\u001b[0mfixes\u001b[0m \u001b[0;32mimport\u001b[0m \u001b[0msignature\u001b[0m\u001b[0;34m\u001b[0m\u001b[0m\n\u001b[1;32m      4\u001b[0m \u001b[0;34m\u001b[0m\u001b[0m\n\u001b[0;32m----> 5\u001b[0;31m \u001b[0mprecision\u001b[0m\u001b[0;34m,\u001b[0m \u001b[0mrecall\u001b[0m\u001b[0;34m,\u001b[0m \u001b[0m_\u001b[0m \u001b[0;34m=\u001b[0m \u001b[0mprecision_recall_curve\u001b[0m\u001b[0;34m(\u001b[0m\u001b[0my_test\u001b[0m\u001b[0;34m,\u001b[0m \u001b[0my_score\u001b[0m\u001b[0;34m)\u001b[0m\u001b[0;34m\u001b[0m\u001b[0m\n\u001b[0m\u001b[1;32m      6\u001b[0m \u001b[0;34m\u001b[0m\u001b[0m\n\u001b[1;32m      7\u001b[0m \u001b[0;31m# In matplotlib < 1.5, plt.fill_between does not have a 'step' argument\u001b[0m\u001b[0;34m\u001b[0m\u001b[0;34m\u001b[0m\u001b[0m\n",
      "\u001b[0;32m/anaconda3/lib/python3.7/site-packages/sklearn/metrics/ranking.py\u001b[0m in \u001b[0;36mprecision_recall_curve\u001b[0;34m(y_true, probas_pred, pos_label, sample_weight)\u001b[0m\n\u001b[1;32m    439\u001b[0m     fps, tps, thresholds = _binary_clf_curve(y_true, probas_pred,\n\u001b[1;32m    440\u001b[0m                                              \u001b[0mpos_label\u001b[0m\u001b[0;34m=\u001b[0m\u001b[0mpos_label\u001b[0m\u001b[0;34m,\u001b[0m\u001b[0;34m\u001b[0m\u001b[0m\n\u001b[0;32m--> 441\u001b[0;31m                                              sample_weight=sample_weight)\n\u001b[0m\u001b[1;32m    442\u001b[0m \u001b[0;34m\u001b[0m\u001b[0m\n\u001b[1;32m    443\u001b[0m     \u001b[0mprecision\u001b[0m \u001b[0;34m=\u001b[0m \u001b[0mtps\u001b[0m \u001b[0;34m/\u001b[0m \u001b[0;34m(\u001b[0m\u001b[0mtps\u001b[0m \u001b[0;34m+\u001b[0m \u001b[0mfps\u001b[0m\u001b[0;34m)\u001b[0m\u001b[0;34m\u001b[0m\u001b[0m\n",
      "\u001b[0;32m/anaconda3/lib/python3.7/site-packages/sklearn/metrics/ranking.py\u001b[0m in \u001b[0;36m_binary_clf_curve\u001b[0;34m(y_true, y_score, pos_label, sample_weight)\u001b[0m\n\u001b[1;32m    316\u001b[0m     if not (y_type == \"binary\" or\n\u001b[1;32m    317\u001b[0m             (y_type == \"multiclass\" and pos_label is not None)):\n\u001b[0;32m--> 318\u001b[0;31m         \u001b[0;32mraise\u001b[0m \u001b[0mValueError\u001b[0m\u001b[0;34m(\u001b[0m\u001b[0;34m\"{0} format is not supported\"\u001b[0m\u001b[0;34m.\u001b[0m\u001b[0mformat\u001b[0m\u001b[0;34m(\u001b[0m\u001b[0my_type\u001b[0m\u001b[0;34m)\u001b[0m\u001b[0;34m)\u001b[0m\u001b[0;34m\u001b[0m\u001b[0m\n\u001b[0m\u001b[1;32m    319\u001b[0m \u001b[0;34m\u001b[0m\u001b[0m\n\u001b[1;32m    320\u001b[0m     \u001b[0mcheck_consistent_length\u001b[0m\u001b[0;34m(\u001b[0m\u001b[0my_true\u001b[0m\u001b[0;34m,\u001b[0m \u001b[0my_score\u001b[0m\u001b[0;34m,\u001b[0m \u001b[0msample_weight\u001b[0m\u001b[0;34m)\u001b[0m\u001b[0;34m\u001b[0m\u001b[0m\n",
      "\u001b[0;31mValueError\u001b[0m: multilabel-indicator format is not supported"
     ]
    }
   ],
   "source": [
    "from sklearn.metrics import precision_recall_curve\n",
    "import matplotlib.pyplot as plt\n",
    "from sklearn.utils.fixes import signature\n",
    "\n",
    "precision, recall, _ = precision_recall_curve(y_test, y_score)\n",
    "\n",
    "# In matplotlib < 1.5, plt.fill_between does not have a 'step' argument\n",
    "step_kwargs = ({'step': 'post'}\n",
    "               if 'step' in signature(plt.fill_between).parameters\n",
    "               else {})\n",
    "plt.step(recall, precision, color='b', alpha=0.2,\n",
    "         where='post')\n",
    "plt.fill_between(recall, precision, alpha=0.2, color='b', **step_kwargs)\n",
    "\n",
    "plt.xlabel('Recall')\n",
    "plt.ylabel('Precision')\n",
    "plt.ylim([0.0, 1.05])\n",
    "plt.xlim([0.0, 1.0])\n",
    "plt.title('2-class Precision-Recall curve: AP={0:0.2f}'.format(\n",
    "          average_precision))\n"
   ]
  },
  {
   "cell_type": "code",
   "execution_count": null,
   "metadata": {},
   "outputs": [],
   "source": []
  }
 ],
 "metadata": {
  "kernelspec": {
   "display_name": "Python 3",
   "language": "python",
   "name": "python3"
  },
  "language_info": {
   "codemirror_mode": {
    "name": "ipython",
    "version": 3
   },
   "file_extension": ".py",
   "mimetype": "text/x-python",
   "name": "python",
   "nbconvert_exporter": "python",
   "pygments_lexer": "ipython3",
   "version": "3.7.3"
  }
 },
 "nbformat": 4,
 "nbformat_minor": 2
}
