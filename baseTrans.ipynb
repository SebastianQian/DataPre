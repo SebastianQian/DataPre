{
 "cells": [
  {
   "cell_type": "code",
   "execution_count": 156,
   "metadata": {},
   "outputs": [
    {
     "name": "stdout",
     "output_type": "stream",
     "text": [
      "'-0b1010.1'\n"
     ]
    }
   ],
   "source": [
    "def dec2bin(x):\n",
    "    iPart = int(x) \n",
    "    iBit = bin(iPart)\n",
    "    if iPart == x :\n",
    "        print(\"'\", iBit, \"'\", sep = '', end = '')\n",
    "    else:\n",
    "        print('\\'', iBit, '.', sep = '', end = '')\n",
    "        mPart = abs(x) - abs(iPart)\n",
    "        while (mPart):\n",
    "            mPart *= 2\n",
    "            mBit = int(mPart)\n",
    "            print(mBit, end = '')\n",
    "            mPart -= int(mPart)\n",
    "        print('\\'')\n",
    "dec2bin(-10.5)"
   ]
  },
  {
   "cell_type": "code",
   "execution_count": 158,
   "metadata": {},
   "outputs": [
    {
     "name": "stdout",
     "output_type": "stream",
     "text": [
      "-10.5\n"
     ]
    }
   ],
   "source": [
    "def bin2dec(x):\n",
    "    bins = x.split('.')\n",
    "    if x.count('.') == 1:\n",
    "        iPart = int(bins[0],2)\n",
    "        mStr = bins[1]\n",
    "        mPart = 0\n",
    "        for i in range(len(mStr)):\n",
    "            mPart += 2**(-i-1) * int(mStr[i])\n",
    "        if x.count('-') == 1:\n",
    "            print('-', abs(iPart) + mPart, sep = '')\n",
    "        else:\n",
    "            print(abs(iPart) + mPart, sep = '')\n",
    "    else:\n",
    "        print(int(bins[0],2))\n",
    "bin2dec('-0b1010.1')\n"
   ]
  },
  {
   "cell_type": "code",
   "execution_count": 178,
   "metadata": {},
   "outputs": [
    {
     "name": "stdout",
     "output_type": "stream",
     "text": [
      "'-0o10'"
     ]
    }
   ],
   "source": [
    "def dec2oct(x):\n",
    "    iPart = int(x)    \n",
    "    iBit = oct(iPart)\n",
    "    if iPart == x:\n",
    "        print('\\'', iBit, \"'\", sep = '', end = '')\n",
    "    else:\n",
    "        print('\\'', iBit, '.', sep = '', end = '')\n",
    "        mPart = abs(x) - abs(iPart)\n",
    "        while (mPart):\n",
    "            mPart *= 8\n",
    "            mBit = int(mPart)\n",
    "            print(mBit, end = '')\n",
    "            mPart -= int(mPart)\n",
    "        print('\\'')\n",
    "dec2oct(-8)\n"
   ]
  },
  {
   "cell_type": "code",
   "execution_count": 172,
   "metadata": {
    "scrolled": true
   },
   "outputs": [
    {
     "name": "stdout",
     "output_type": "stream",
     "text": [
      "-520.5\n"
     ]
    }
   ],
   "source": [
    "def oct2dec(x):\n",
    "    octs = x.split('.')\n",
    "    if x.count('.') == 1:\n",
    "        iPart = int(octs[0],8)\n",
    "        mStr = octs[1]\n",
    "        mPart = 0\n",
    "        for i in range(len(mStr)):\n",
    "            mPart += 8**(-i-1) * int(mStr[i])\n",
    "        if x.count('-') == 1:\n",
    "            print('-', abs(iPart) + mPart, sep = '')\n",
    "        else:\n",
    "            print(abs(iPart) + mPart, sep = '')\n",
    "    else:\n",
    "        print(int(bins[0],8))\n",
    "oct2dec('-0o1010.4')"
   ]
  },
  {
   "cell_type": "code",
   "execution_count": 241,
   "metadata": {},
   "outputs": [
    {
     "name": "stdout",
     "output_type": "stream",
     "text": [
      "'-0x10.cccccccccccd'\n"
     ]
    }
   ],
   "source": [
    "def dec2hex(x):\n",
    "    iPart = int(x)    \n",
    "    iBit = hex(iPart)\n",
    "    if iPart == x:\n",
    "        print('\\'', iBit, \"'\", sep = '', end = '')\n",
    "    else:\n",
    "        print('\\'', iBit, '.', sep = '', end = '')\n",
    "        mPart = abs(x) - abs(iPart)\n",
    "        while (mPart):\n",
    "            mPart *= 16\n",
    "            mBit = int(mPart)\n",
    "            if mBit == 10:\n",
    "                print('a', end = '')\n",
    "            elif mBit == 11:\n",
    "                print('b', end = '')\n",
    "            elif mBit == 12:\n",
    "                print('c', end = '')\n",
    "            elif mBit == 13:\n",
    "                print('d', end = '')\n",
    "            elif mBit == 14:\n",
    "                print('e', end = '')\n",
    "            elif mBit == 15 :\n",
    "                print('f', end = '')\n",
    "            else:\n",
    "                print(mBit, end = '')\n",
    "            mPart -= int(mPart)\n",
    "        print('\\'')\n",
    "dec2hex(-16.8)\n"
   ]
  },
  {
   "cell_type": "code",
   "execution_count": 236,
   "metadata": {},
   "outputs": [
    {
     "name": "stdout",
     "output_type": "stream",
     "text": [
      "-15.6875\n"
     ]
    }
   ],
   "source": [
    "def hex2dec(x):\n",
    "    hexs = x.split('.')\n",
    "    if x.count('.') == 1:\n",
    "        iPart = int(hexs[0],16)\n",
    "        mStr = hexs[1]\n",
    "        mPart = 0\n",
    "        for i in range(len(mStr)):\n",
    "            r = mStr[i]\n",
    "            s = 0\n",
    "            if r == 'a':\n",
    "                s = 10\n",
    "            elif r == 'b':\n",
    "                s = 11\n",
    "            elif r == 'c':\n",
    "                s = 12\n",
    "            elif r == 'd':\n",
    "                s = 13\n",
    "            elif r == 'e':\n",
    "                s = 14\n",
    "            elif r == 'f' :\n",
    "                s = 15\n",
    "            else:\n",
    "                s = int(r)\n",
    "            mPart += 16**(-i-1) * s\n",
    "        if x.count('-') == 1:\n",
    "            print('-', abs(iPart) + mPart, sep = '')\n",
    "        else:\n",
    "            print(abs(iPart) + mPart, sep = '')\n",
    "    else:\n",
    "        print(int(hexs[0],16))\n",
    "hex2dec('-0xf.b')"
   ]
  },
  {
   "cell_type": "code",
   "execution_count": 234,
   "metadata": {},
   "outputs": [
    {
     "data": {
      "text/plain": [
       "0.9375"
      ]
     },
     "execution_count": 234,
     "metadata": {},
     "output_type": "execute_result"
    }
   ],
   "source": [
    "15/16\n"
   ]
  },
  {
   "cell_type": "code",
   "execution_count": 239,
   "metadata": {},
   "outputs": [
    {
     "name": "stdout",
     "output_type": "stream",
     "text": [
      "- 2\n"
     ]
    }
   ],
   "source": []
  },
  {
   "cell_type": "code",
   "execution_count": null,
   "metadata": {},
   "outputs": [],
   "source": []
  }
 ],
 "metadata": {
  "kernelspec": {
   "display_name": "Python 3",
   "language": "python",
   "name": "python3"
  },
  "language_info": {
   "codemirror_mode": {
    "name": "ipython",
    "version": 3
   },
   "file_extension": ".py",
   "mimetype": "text/x-python",
   "name": "python",
   "nbconvert_exporter": "python",
   "pygments_lexer": "ipython3",
   "version": "3.7.0"
  }
 },
 "nbformat": 4,
 "nbformat_minor": 2
}
