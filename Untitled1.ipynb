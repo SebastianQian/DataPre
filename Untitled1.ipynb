{
 "cells": [
  {
   "cell_type": "code",
   "execution_count": 61,
   "metadata": {
    "scrolled": true
   },
   "outputs": [
    {
     "data": {
      "text/html": [
       "<div>\n",
       "<style scoped>\n",
       "    .dataframe tbody tr th:only-of-type {\n",
       "        vertical-align: middle;\n",
       "    }\n",
       "\n",
       "    .dataframe tbody tr th {\n",
       "        vertical-align: top;\n",
       "    }\n",
       "\n",
       "    .dataframe thead th {\n",
       "        text-align: right;\n",
       "    }\n",
       "</style>\n",
       "<table border=\"1\" class=\"dataframe\">\n",
       "  <thead>\n",
       "    <tr style=\"text-align: right;\">\n",
       "      <th></th>\n",
       "      <th>Rooms</th>\n",
       "      <th>Price</th>\n",
       "      <th>Distance</th>\n",
       "      <th>Postcode</th>\n",
       "      <th>Rooms2</th>\n",
       "      <th>Bathroom</th>\n",
       "      <th>Car</th>\n",
       "      <th>Landsize</th>\n",
       "      <th>BuildingArea</th>\n",
       "      <th>YearBuilt</th>\n",
       "      <th>PropertyCount</th>\n",
       "    </tr>\n",
       "  </thead>\n",
       "  <tbody>\n",
       "    <tr>\n",
       "      <th>count</th>\n",
       "      <td>8895.00000</td>\n",
       "      <td>8.895000e+03</td>\n",
       "      <td>8895.000000</td>\n",
       "      <td>8895.000000</td>\n",
       "      <td>8895.000000</td>\n",
       "      <td>8895.000000</td>\n",
       "      <td>8895.000000</td>\n",
       "      <td>8895.000000</td>\n",
       "      <td>8895.000000</td>\n",
       "      <td>8895.000000</td>\n",
       "      <td>8895.000000</td>\n",
       "    </tr>\n",
       "    <tr>\n",
       "      <th>mean</th>\n",
       "      <td>3.09882</td>\n",
       "      <td>1.092524e+06</td>\n",
       "      <td>11.202136</td>\n",
       "      <td>3111.698033</td>\n",
       "      <td>3.078134</td>\n",
       "      <td>1.646655</td>\n",
       "      <td>1.692636</td>\n",
       "      <td>523.395166</td>\n",
       "      <td>149.295708</td>\n",
       "      <td>1965.777403</td>\n",
       "      <td>7473.779314</td>\n",
       "    </tr>\n",
       "    <tr>\n",
       "      <th>std</th>\n",
       "      <td>0.96359</td>\n",
       "      <td>6.792066e+05</td>\n",
       "      <td>6.815113</td>\n",
       "      <td>112.781766</td>\n",
       "      <td>0.966070</td>\n",
       "      <td>0.721388</td>\n",
       "      <td>0.975393</td>\n",
       "      <td>1060.940841</td>\n",
       "      <td>87.898565</td>\n",
       "      <td>37.055054</td>\n",
       "      <td>4374.181898</td>\n",
       "    </tr>\n",
       "    <tr>\n",
       "      <th>min</th>\n",
       "      <td>1.00000</td>\n",
       "      <td>1.310000e+05</td>\n",
       "      <td>0.000000</td>\n",
       "      <td>3000.000000</td>\n",
       "      <td>0.000000</td>\n",
       "      <td>1.000000</td>\n",
       "      <td>0.000000</td>\n",
       "      <td>0.000000</td>\n",
       "      <td>0.000000</td>\n",
       "      <td>1196.000000</td>\n",
       "      <td>249.000000</td>\n",
       "    </tr>\n",
       "    <tr>\n",
       "      <th>25%</th>\n",
       "      <td>2.00000</td>\n",
       "      <td>6.405000e+05</td>\n",
       "      <td>6.400000</td>\n",
       "      <td>3044.000000</td>\n",
       "      <td>2.000000</td>\n",
       "      <td>1.000000</td>\n",
       "      <td>1.000000</td>\n",
       "      <td>212.000000</td>\n",
       "      <td>100.000000</td>\n",
       "      <td>1945.000000</td>\n",
       "      <td>4380.000000</td>\n",
       "    </tr>\n",
       "    <tr>\n",
       "      <th>50%</th>\n",
       "      <td>3.00000</td>\n",
       "      <td>9.000000e+05</td>\n",
       "      <td>10.200000</td>\n",
       "      <td>3083.000000</td>\n",
       "      <td>3.000000</td>\n",
       "      <td>2.000000</td>\n",
       "      <td>2.000000</td>\n",
       "      <td>478.000000</td>\n",
       "      <td>132.000000</td>\n",
       "      <td>1970.000000</td>\n",
       "      <td>6567.000000</td>\n",
       "    </tr>\n",
       "    <tr>\n",
       "      <th>75%</th>\n",
       "      <td>4.00000</td>\n",
       "      <td>1.345000e+06</td>\n",
       "      <td>13.900000</td>\n",
       "      <td>3150.000000</td>\n",
       "      <td>4.000000</td>\n",
       "      <td>2.000000</td>\n",
       "      <td>2.000000</td>\n",
       "      <td>652.000000</td>\n",
       "      <td>180.000000</td>\n",
       "      <td>2000.000000</td>\n",
       "      <td>10331.000000</td>\n",
       "    </tr>\n",
       "    <tr>\n",
       "      <th>max</th>\n",
       "      <td>12.00000</td>\n",
       "      <td>9.000000e+06</td>\n",
       "      <td>47.400000</td>\n",
       "      <td>3977.000000</td>\n",
       "      <td>12.000000</td>\n",
       "      <td>9.000000</td>\n",
       "      <td>10.000000</td>\n",
       "      <td>42800.000000</td>\n",
       "      <td>3112.000000</td>\n",
       "      <td>2019.000000</td>\n",
       "      <td>21650.000000</td>\n",
       "    </tr>\n",
       "  </tbody>\n",
       "</table>\n",
       "</div>"
      ],
      "text/plain": [
       "            Rooms         Price     Distance     Postcode       Rooms2  \\\n",
       "count  8895.00000  8.895000e+03  8895.000000  8895.000000  8895.000000   \n",
       "mean      3.09882  1.092524e+06    11.202136  3111.698033     3.078134   \n",
       "std       0.96359  6.792066e+05     6.815113   112.781766     0.966070   \n",
       "min       1.00000  1.310000e+05     0.000000  3000.000000     0.000000   \n",
       "25%       2.00000  6.405000e+05     6.400000  3044.000000     2.000000   \n",
       "50%       3.00000  9.000000e+05    10.200000  3083.000000     3.000000   \n",
       "75%       4.00000  1.345000e+06    13.900000  3150.000000     4.000000   \n",
       "max      12.00000  9.000000e+06    47.400000  3977.000000    12.000000   \n",
       "\n",
       "          Bathroom          Car      Landsize  BuildingArea    YearBuilt  \\\n",
       "count  8895.000000  8895.000000   8895.000000   8895.000000  8895.000000   \n",
       "mean      1.646655     1.692636    523.395166    149.295708  1965.777403   \n",
       "std       0.721388     0.975393   1060.940841     87.898565    37.055054   \n",
       "min       1.000000     0.000000      0.000000      0.000000  1196.000000   \n",
       "25%       1.000000     1.000000    212.000000    100.000000  1945.000000   \n",
       "50%       2.000000     2.000000    478.000000    132.000000  1970.000000   \n",
       "75%       2.000000     2.000000    652.000000    180.000000  2000.000000   \n",
       "max       9.000000    10.000000  42800.000000   3112.000000  2019.000000   \n",
       "\n",
       "       PropertyCount  \n",
       "count    8895.000000  \n",
       "mean     7473.779314  \n",
       "std      4374.181898  \n",
       "min       249.000000  \n",
       "25%      4380.000000  \n",
       "50%      6567.000000  \n",
       "75%     10331.000000  \n",
       "max     21650.000000  "
      ]
     },
     "execution_count": 61,
     "metadata": {},
     "output_type": "execute_result"
    }
   ],
   "source": [
    "import numpy as np\n",
    "import pandas as pd\n",
    "\n",
    "train = pd.read_csv('/Users/admin/Desktop/House_Price_Dataset.csv')\n",
    "train= train.drop(['Suburb','Address','Type','Method','Seller','Date','CouncilArea','RegionName','Latitude','Longitude'],axis=1,inplace=False)\n",
    "train = train.dropna(axis = 0, inplace=False)\n",
    "train.describe()\n",
    "\n"
   ]
  },
  {
   "cell_type": "code",
   "execution_count": 69,
   "metadata": {},
   "outputs": [],
   "source": [
    "y=train['Price']  \n",
    "train1=train.drop(['Price'], axis=1)  "
   ]
  },
  {
   "cell_type": "code",
   "execution_count": 77,
   "metadata": {},
   "outputs": [
    {
     "data": {
      "text/plain": [
       "(8895, 11)"
      ]
     },
     "execution_count": 77,
     "metadata": {},
     "output_type": "execute_result"
    }
   ],
   "source": [
    "X=pd.get_dummies(train1).reset_index() \n",
    "X.shape"
   ]
  },
  {
   "cell_type": "code",
   "execution_count": 196,
   "metadata": {},
   "outputs": [],
   "source": [
    "from sklearn.metrics import mean_squared_error #使用均方差函数，衡量数据集的好坏\n",
    "from sklearn.model_selection import train_test_split  #数据集切分\n",
    "X_train,X_test,y_train,y_test=train_test_split(X,y,test_size=0.2,random_state=123)\n"
   ]
  },
  {
   "cell_type": "code",
   "execution_count": 194,
   "metadata": {},
   "outputs": [
    {
     "data": {
      "text/plain": [
       "False"
      ]
     },
     "execution_count": 194,
     "metadata": {},
     "output_type": "execute_result"
    }
   ],
   "source": [
    "np.any(np.isnan(train))"
   ]
  },
  {
   "cell_type": "code",
   "execution_count": 193,
   "metadata": {},
   "outputs": [
    {
     "data": {
      "text/plain": [
       "True"
      ]
     },
     "execution_count": 193,
     "metadata": {},
     "output_type": "execute_result"
    }
   ],
   "source": [
    "np.all(np.isfinite(train))"
   ]
  },
  {
   "cell_type": "code",
   "execution_count": 195,
   "metadata": {},
   "outputs": [
    {
     "data": {
      "text/plain": [
       "470707.50779336115"
      ]
     },
     "execution_count": 195,
     "metadata": {},
     "output_type": "execute_result"
    }
   ],
   "source": [
    "from sklearn.linear_model import LinearRegression\n",
    "\n",
    "lm=LinearRegression()\n",
    "lm.fit(X_train,y_train)\n",
    "\n",
    "pred=lm.predict(X_test)\n",
    "rmse=np.sqrt(mean_squared_error(y_test,pred))\n",
    "rmse\n"
   ]
  },
  {
   "cell_type": "code",
   "execution_count": 147,
   "metadata": {},
   "outputs": [
    {
     "data": {
      "text/plain": [
       "0.41626515539693826"
      ]
     },
     "execution_count": 147,
     "metadata": {},
     "output_type": "execute_result"
    }
   ],
   "source": [
    "logrmse=np.sqrt(mean_squared_error(np.log(y_test),np.log(np.abs(pred))))\n",
    "logrmse"
   ]
  },
  {
   "cell_type": "code",
   "execution_count": 149,
   "metadata": {},
   "outputs": [],
   "source": [
    "def benchmark(model,testset,label):\n",
    "    pred=model.predict(testset)\n",
    "    lrmse=np.sqrt(mean_squared_error(np.log(y_test),np.log(np.abs(pred))))\n",
    "    return lrmse\n"
   ]
  },
  {
   "cell_type": "markdown",
   "metadata": {},
   "source": [
    "# Linear Regression"
   ]
  },
  {
   "cell_type": "code",
   "execution_count": 150,
   "metadata": {},
   "outputs": [
    {
     "data": {
      "text/plain": [
       "0.41626515539693826"
      ]
     },
     "execution_count": 150,
     "metadata": {},
     "output_type": "execute_result"
    }
   ],
   "source": [
    "benchmark(lm,X_test,y_test)\n"
   ]
  },
  {
   "cell_type": "code",
   "execution_count": 151,
   "metadata": {},
   "outputs": [
    {
     "data": {
      "text/plain": [
       "0.4162651553971061"
      ]
     },
     "execution_count": 151,
     "metadata": {},
     "output_type": "execute_result"
    }
   ],
   "source": [
    "from sklearn.pipeline import make_pipeline\n",
    "from sklearn.preprocessing import RobustScaler\n",
    "\n",
    "lmmodel=make_pipeline(RobustScaler(),lm).fit(X_train,y_train)\n",
    "benchmark(lmmodel,X_test,y_test)"
   ]
  },
  {
   "cell_type": "markdown",
   "metadata": {},
   "source": [
    "# Ridge Regression"
   ]
  },
  {
   "cell_type": "code",
   "execution_count": 175,
   "metadata": {},
   "outputs": [],
   "source": [
    "from sklearn.model_selection import KFold # 交叉验证的拆分器\n",
    "from sklearn.linear_model import RidgeCV"
   ]
  },
  {
   "cell_type": "code",
   "execution_count": 176,
   "metadata": {},
   "outputs": [],
   "source": [
    "kfolds=KFold(n_splits=10,shuffle=True,random_state=123) # 拆分成十份进行交叉验证，shuffle表示打乱顺序"
   ]
  },
  {
   "cell_type": "code",
   "execution_count": 182,
   "metadata": {},
   "outputs": [],
   "source": [
    "# 1. 手动寻找最优过程：循环传入一堆正则化参数alphas，从中挑选最优的一个值\n",
    "def ridge_train_test(alpha):                      #cv传入交叉验证的值\n",
    "    ridge_model=make_pipeline(RobustScaler(),RidgeCV(alphas=[alpha],cv=kfolds)).fit(X_train,y_train)\n",
    "    lrmse=benchmark(ridge_model,X_test,y_test)\n",
    "    return lrmse\n",
    "r_alphas1=np.logspace(-10,2,100)  # logspace表示从10的-10次方到2次方，中间分成100个数\n",
    "r_alphas2=np.logspace(-10,5,100)  # 所有可能的正则化参数\n",
    "\n",
    "scores1=[]\n",
    "scores2=[]\n",
    "for k in r_alphas1:\n",
    "    scores1.append(ridge_train_test(k))\n",
    "    \n",
    "for k in r_alphas2:\n",
    "    scores2.append(ridge_train_test(k))"
   ]
  },
  {
   "cell_type": "code",
   "execution_count": 183,
   "metadata": {},
   "outputs": [
    {
     "data": {
      "image/png": "[encoded data removed]",
      "text/plain": [
       "<Figure size 432x288 with 2 Axes>"
      ]
     },
     "metadata": {
      "needs_background": "light"
     },
     "output_type": "display_data"
    }
   ],
   "source": [
    "import matplotlib.pyplot as plt\n",
    "plt.figure(1)\n",
    "plt.subplot(211)\n",
    "plt.plot(r_alphas1,scores1)\n",
    "plt.subplot(212)\n",
    "plt.plot(r_alphas2,scores2)\n",
    "plt.show()\n",
    "#通过不同的alpha参数取值做出的误差图，可见alpha趋近于零效果比较好，趋近100时效果最好，但在往后效果就变差了"
   ]
  },
  {
   "cell_type": "code",
   "execution_count": 184,
   "metadata": {},
   "outputs": [
    {
     "data": {
      "text/plain": [
       "0.41626515539719317"
      ]
     },
     "execution_count": 184,
     "metadata": {},
     "output_type": "execute_result"
    }
   ],
   "source": [
    "scores1[0]  # alpha=100最好"
   ]
  },
  {
   "cell_type": "code",
   "execution_count": 187,
   "metadata": {},
   "outputs": [
    {
     "data": {
      "text/plain": [
       "75.64633275546291"
      ]
     },
     "execution_count": 187,
     "metadata": {},
     "output_type": "execute_result"
    }
   ],
   "source": [
    "ridge_model2=make_pipeline(RobustScaler(),RidgeCV(alphas=r_alphas1,cv=kfolds)).fit(X_train,y_train)\n",
    "benchmark(ridge_model2,X_test,y_test)\n",
    "# 但由于迭代有随机性的原因，找到的还不如alpha=100\n",
    "ridge_model2.steps[1][1].alpha_ "
   ]
  },
  {
   "cell_type": "markdown",
   "metadata": {},
   "source": [
    "# lasso regression"
   ]
  },
  {
   "cell_type": "code",
   "execution_count": 188,
   "metadata": {},
   "outputs": [
    {
     "data": {
      "text/plain": [
       "0.4162651694169128"
      ]
     },
     "execution_count": 188,
     "metadata": {},
     "output_type": "execute_result"
    }
   ],
   "source": [
    "from sklearn.linear_model import LassoCV\n",
    "\n",
    "r_alphas = [0.00005, 0.0001, 0.0002, 0.0003, 0.0004, 0.0005, 0.0006, 0.0007, 0.0008]\n",
    "\n",
    "lasso_model=make_pipeline(RobustScaler(),LassoCV(alphas=r_alphas,random_state=142,cv=kfolds))\n",
    "lasso_model.fit(X_train,y_train)\n",
    "\n",
    "benchmark(lasso_model,X_test,y_test)"
   ]
  },
  {
   "cell_type": "code",
   "execution_count": 189,
   "metadata": {},
   "outputs": [
    {
     "data": {
      "text/plain": [
       "[<matplotlib.lines.Line2D at 0x1a19524908>,\n",
       " <matplotlib.lines.Line2D at 0x1a19524a58>,\n",
       " <matplotlib.lines.Line2D at 0x1a19524ba8>,\n",
       " <matplotlib.lines.Line2D at 0x1a19524cf8>,\n",
       " <matplotlib.lines.Line2D at 0x1a19524e48>,\n",
       " <matplotlib.lines.Line2D at 0x1a19524f98>,\n",
       " <matplotlib.lines.Line2D at 0x1a1952b128>,\n",
       " <matplotlib.lines.Line2D at 0x1a1952b278>,\n",
       " <matplotlib.lines.Line2D at 0x1a1952b3c8>,\n",
       " <matplotlib.lines.Line2D at 0x1a1952b518>]"
      ]
     },
     "execution_count": 189,
     "metadata": {},
     "output_type": "execute_result"
    },
    {
     "data": {
      "image/png": "[encoded data removed]",
      "text/plain": [
       "<Figure size 432x288 with 1 Axes>"
      ]
     },
     "metadata": {
      "needs_background": "light"
     },
     "output_type": "display_data"
    }
   ],
   "source": [
    "scores=lasso_model.steps[1][1].mse_path_    # 最佳参数在迭代过程中的十折曲线，因为KFold=10\n",
    "plt.plot(r_alphas,scores,label='Lasso')"
   ]
  },
  {
   "cell_type": "markdown",
   "metadata": {},
   "source": [
    "# Elastic Net"
   ]
  },
  {
   "cell_type": "code",
   "execution_count": 190,
   "metadata": {},
   "outputs": [
    {
     "data": {
      "text/plain": [
       "0.4171870352594897"
      ]
     },
     "execution_count": 190,
     "metadata": {},
     "output_type": "execute_result"
    }
   ],
   "source": [
    "from sklearn.linear_model import ElasticNetCV\n",
    "\n",
    "e_alphas = [0.0001, 0.0002, 0.0003, 0.0004, 0.0005, 0.0006, 0.0007]\n",
    "e_l1ratio = [0.8, 0.85, 0.9, 0.95, 0.99, 1]\n",
    "\n",
    "elastic_cv=make_pipeline(RobustScaler(),ElasticNetCV(alphas=e_alphas,cv=kfolds,l1_ratio=e_l1ratio))\n",
    "elastic_cv.fit(X_train,y_train)\n",
    "\n",
    "benchmark(elastic_cv,X_test,y_test)"
   ]
  },
  {
   "cell_type": "markdown",
   "metadata": {},
   "source": [
    "# SVM"
   ]
  },
  {
   "cell_type": "code",
   "execution_count": 191,
   "metadata": {},
   "outputs": [
    {
     "data": {
      "text/plain": [
       "0.3718994181294274"
      ]
     },
     "execution_count": 191,
     "metadata": {},
     "output_type": "execute_result"
    }
   ],
   "source": [
    "from sklearn import svm\n",
    "# C越大，步长越慢； gamma是核函数超参；  epsilon是正则系数\n",
    "svr_model=svm.SVR(C=10000000,gamma=1e-8,epsilon=0.2)\n",
    "\n",
    "svr_model.fit(X_train,y_train)\n",
    "\n",
    "benchmark(svr_model,X_test,y_test)"
   ]
  },
  {
   "cell_type": "markdown",
   "metadata": {},
   "source": [
    "# features engineering"
   ]
  },
  {
   "cell_type": "code",
   "execution_count": 161,
   "metadata": {},
   "outputs": [],
   "source": [
    "def TestDataSet(train):\n",
    "    y=train['Price']\n",
    "    X=pd.get_dummies(train.drop(['Price'],axis=1))\n",
    "    X_train,X_test,y_train,y_test=train_test_split(X,y,test_size=0.2,random_state=123)\n",
    "    lm=LinearRegression()\n",
    "    lm.fit(X_train,y_train)\n",
    "    return benchmark(lm,X_test,y_test)"
   ]
  },
  {
   "cell_type": "code",
   "execution_count": 162,
   "metadata": {},
   "outputs": [
    {
     "name": "stdout",
     "output_type": "stream",
     "text": [
      "0.41531085974039533\n",
      "0.3759468769965598\n",
      "0.38272824412817275\n",
      "0.38276444040451757\n"
     ]
    }
   ],
   "source": [
    "SP_Corr=train.corr()['Price']\n",
    "\n",
    "print(TestDataSet(train))\n",
    "print(TestDataSet(train.drop(SP_Corr[(SP_Corr<0.3)&(SP_Corr>0)].index.tolist(),axis=1)))\n",
    "print(TestDataSet(train.drop(SP_Corr[(SP_Corr<0.1)&(SP_Corr>0)].index.tolist(),axis=1)))\n",
    "print(TestDataSet(train.drop(SP_Corr[(SP_Corr<0.1)&(SP_Corr>-0.1).drop(['Price'])].index.tolist(),axis=1)))"
   ]
  },
  {
   "cell_type": "code",
   "execution_count": 163,
   "metadata": {},
   "outputs": [
    {
     "data": {
      "text/plain": [
       "(7116, 11)"
      ]
     },
     "execution_count": 163,
     "metadata": {},
     "output_type": "execute_result"
    }
   ],
   "source": [
    "X_train.shape"
   ]
  }
 ],
 "metadata": {
  "kernelspec": {
   "display_name": "Python 3",
   "language": "python",
   "name": "python3"
  },
  "language_info": {
   "codemirror_mode": {
    "name": "ipython",
    "version": 3
   },
   "file_extension": ".py",
   "mimetype": "text/x-python",
   "name": "python",
   "nbconvert_exporter": "python",
   "pygments_lexer": "ipython3",
   "version": "3.7.3"
  }
 },
 "nbformat": 4,
 "nbformat_minor": 2
}
